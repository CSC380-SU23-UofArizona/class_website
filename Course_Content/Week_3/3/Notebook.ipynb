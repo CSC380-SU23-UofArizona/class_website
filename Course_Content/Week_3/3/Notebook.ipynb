{
 "cells": [
  {
   "cell_type": "markdown",
   "id": "36292537",
   "metadata": {},
   "source": [
    "# Lecture 3.3 "
   ]
  },
  {
   "cell_type": "markdown",
   "id": "5ef91eac",
   "metadata": {},
   "source": [
    "## 1. Data Collection"
   ]
  },
  {
   "cell_type": "code",
   "execution_count": 1,
   "id": "be60857f",
   "metadata": {
    "slideshow": {
     "slide_type": "slide"
    }
   },
   "outputs": [
    {
     "name": "stdout",
     "output_type": "stream",
     "text": [
      "Requirement already satisfied: beautifulsoup4 in /Users/enfageorge/miniconda/lib/python3.10/site-packages (4.12.2)\r\n",
      "Requirement already satisfied: soupsieve>1.2 in /Users/enfageorge/miniconda/lib/python3.10/site-packages (from beautifulsoup4) (2.4.1)\r\n"
     ]
    }
   ],
   "source": [
    "!pip install beautifulsoup4"
   ]
  },
  {
   "cell_type": "markdown",
   "id": "91b177ac",
   "metadata": {},
   "source": [
    "### 1.1 Requests"
   ]
  },
  {
   "cell_type": "code",
   "execution_count": 2,
   "id": "2dd0f1de",
   "metadata": {
    "slideshow": {
     "slide_type": "slide"
    }
   },
   "outputs": [],
   "source": [
    "import requests"
   ]
  },
  {
   "cell_type": "code",
   "execution_count": 3,
   "id": "e60d0a1d",
   "metadata": {
    "slideshow": {
     "slide_type": "slide"
    }
   },
   "outputs": [],
   "source": [
    "URL = \"https://csc380.beingenfa.com/Syllabus/Key_Info.html\""
   ]
  },
  {
   "cell_type": "code",
   "execution_count": 4,
   "id": "8ac5d31b",
   "metadata": {
    "slideshow": {
     "slide_type": "slide"
    }
   },
   "outputs": [],
   "source": [
    "r = requests.get(URL)"
   ]
  },
  {
   "cell_type": "code",
   "execution_count": 5,
   "id": "e30c5e37",
   "metadata": {
    "slideshow": {
     "slide_type": "slide"
    }
   },
   "outputs": [
    {
     "data": {
      "text/plain": [
       "200"
      ]
     },
     "execution_count": 5,
     "metadata": {},
     "output_type": "execute_result"
    }
   ],
   "source": [
    "r.status_code"
   ]
  },
  {
   "cell_type": "code",
   "execution_count": 6,
   "id": "15be3e9a",
   "metadata": {
    "collapsed": true,
    "slideshow": {
     "slide_type": "slide"
    }
   },
   "outputs": [
    {
     "data": {
      "text/plain": [
       "'<!DOCTYPE html>\\n<html xmlns=\"http://www.w3.org/1999/xhtml\" lang=\"en\" xml:lang=\"en\"><head>\\n\\n<meta charset=\"utf-8\">\\n<meta name=\"generator\" content=\"quarto-1.3.361\">\\n\\n<meta name=\"viewport\" content=\"width=device-width, initial-scale=1.0, user-scalable=yes\">\\n\\n\\n<title>CSC 380 – key_info</title>\\n<style>\\ncode{white-space: pre-wrap;}\\nspan.smallcaps{font-variant: small-caps;}\\ndiv.columns{display: flex; gap: min(4vw, 1.5em);}\\ndiv.column{flex: auto; overflow-x: auto;}\\ndiv.hanging-indent{margin-left: 1.5em; text-indent: -1.5em;}\\nul.task-list{list-style: none;}\\nul.task-list li input[type=\"checkbox\"] {\\n  width: 0.8em;\\n  margin: 0 0.8em 0.2em -1em; /* quarto-specific, see https://github.com/quarto-dev/quarto-cli/issues/4556 */ \\n  vertical-align: middle;\\n}\\n</style>\\n\\n\\n<script src=\"../site_libs/quarto-nav/quarto-nav.js\"></script>\\n<script src=\"../site_libs/quarto-nav/headroom.min.js\"></script>\\n<script src=\"../site_libs/clipboard/clipboard.min.js\"></script>\\n<script src=\"../site_libs/quarto-search/autocomplete.umd.js\"></script>\\n<script src=\"../site_libs/quarto-search/fuse.min.js\"></script>\\n<script src=\"../site_libs/quarto-search/quarto-search.js\"></script>\\n<meta name=\"quarto:offset\" content=\"../\">\\n<script src=\"../site_libs/quarto-html/quarto.js\"></script>\\n<script src=\"../site_libs/quarto-html/popper.min.js\"></script>\\n<script src=\"../site_libs/quarto-html/tippy.umd.min.js\"></script>\\n<script src=\"../site_libs/quarto-html/anchor.min.js\"></script>\\n<link href=\"../site_libs/quarto-html/tippy.css\" rel=\"stylesheet\">\\n<link href=\"../site_libs/quarto-html/quarto-syntax-highlighting.css\" rel=\"stylesheet\" id=\"quarto-text-highlighting-styles\">\\n<script src=\"../site_libs/bootstrap/bootstrap.min.js\"></script>\\n<link href=\"../site_libs/bootstrap/bootstrap-icons.css\" rel=\"stylesheet\">\\n<link href=\"../site_libs/bootstrap/bootstrap.min.css\" rel=\"stylesheet\" id=\"quarto-bootstrap\" data-mode=\"light\">\\n<script id=\"quarto-search-options\" type=\"application/json\">{\\n  \"location\": \"sidebar\",\\n  \"copy-button\": false,\\n  \"collapse-after\": 3,\\n  \"panel-placement\": \"start\",\\n  \"type\": \"textbox\",\\n  \"limit\": 20,\\n  \"language\": {\\n    \"search-no-results-text\": \"No results\",\\n    \"search-matching-documents-text\": \"matching documents\",\\n    \"search-copy-link-title\": \"Copy link to search\",\\n    \"search-hide-matches-text\": \"Hide additional matches\",\\n    \"search-more-match-text\": \"more match in this document\",\\n    \"search-more-matches-text\": \"more matches in this document\",\\n    \"search-clear-button-title\": \"Clear\",\\n    \"search-detached-cancel-button-title\": \"Cancel\",\\n    \"search-submit-button-title\": \"Submit\",\\n    \"search-label\": \"Search\"\\n  }\\n}</script>\\n\\n\\n<link rel=\"stylesheet\" href=\"../styles.css\">\\n</head>\\n\\n<body class=\"nav-sidebar docked\">\\n\\n<div id=\"quarto-search-results\"></div>\\n  <header id=\"quarto-header\" class=\"headroom fixed-top\">\\n  <nav class=\"quarto-secondary-nav\">\\n    <div class=\"container-fluid d-flex\">\\n      <button type=\"button\" class=\"quarto-btn-toggle btn\" data-bs-toggle=\"collapse\" data-bs-target=\"#quarto-sidebar,#quarto-sidebar-glass\" aria-controls=\"quarto-sidebar\" aria-expanded=\"false\" aria-label=\"Toggle sidebar navigation\" onclick=\"if (window.quartoToggleHeadroom) { window.quartoToggleHeadroom(); }\">\\n        <i class=\"bi bi-layout-text-sidebar-reverse\"></i>\\n      </button>\\n      <nav class=\"quarto-page-breadcrumbs\" aria-label=\"breadcrumb\"><ol class=\"breadcrumb\"><li class=\"breadcrumb-item\"><a href=\"../Syllabus/Key_Info.html\">Syllabus</a></li><li class=\"breadcrumb-item\"><a href=\"../Syllabus/Key_Info.html\">Key Info</a></li></ol></nav>\\n      <a class=\"flex-grow-1\" role=\"button\" data-bs-toggle=\"collapse\" data-bs-target=\"#quarto-sidebar,#quarto-sidebar-glass\" aria-controls=\"quarto-sidebar\" aria-expanded=\"false\" aria-label=\"Toggle sidebar navigation\" onclick=\"if (window.quartoToggleHeadroom) { window.quartoToggleHeadroom(); }\">      \\n      </a>\\n      <button type=\"button\" class=\"btn quarto-search-button\" aria-label=\"\" onclick=\"window.quartoOpenSearch();\">\\n        <i class=\"bi bi-search\"></i>\\n      </button>\\n    </div>\\n  </nav>\\n</header>\\n<!-- content -->\\n<div id=\"quarto-content\" class=\"quarto-container page-columns page-rows-contents page-layout-article\">\\n<!-- sidebar -->\\n  <nav id=\"quarto-sidebar\" class=\"sidebar collapse collapse-horizontal sidebar-navigation docked overflow-auto\">\\n    <div class=\"pt-lg-2 mt-2 text-left sidebar-header\">\\n    <div class=\"sidebar-title mb-0 py-0\">\\n      <a href=\"../\">CSC 380</a> \\n    </div>\\n      </div>\\n        <div class=\"mt-2 flex-shrink-0 align-items-center\">\\n        <div class=\"sidebar-search\">\\n        <div id=\"quarto-search\" class=\"\" title=\"Search\"></div>\\n        </div>\\n        </div>\\n    <div class=\"sidebar-menu-container\"> \\n    <ul class=\"list-unstyled mt-1\">\\n        <li class=\"sidebar-item sidebar-item-section\">\\n      <div class=\"sidebar-item-container\"> \\n            <a class=\"sidebar-item-text sidebar-link text-start\" data-bs-toggle=\"collapse\" data-bs-target=\"#quarto-sidebar-section-1\" aria-expanded=\"true\">\\n <span class=\"menu-text\">Course Content</span></a>\\n          <a class=\"sidebar-item-toggle text-start\" data-bs-toggle=\"collapse\" data-bs-target=\"#quarto-sidebar-section-1\" aria-expanded=\"true\" aria-label=\"Toggle section\">\\n            <i class=\"bi bi-chevron-right ms-2\"></i>\\n          </a> \\n      </div>\\n      <ul id=\"quarto-sidebar-section-1\" class=\"collapse list-unstyled sidebar-section depth1 show\">  \\n          <li class=\"sidebar-item\">\\n  <div class=\"sidebar-item-container\"> \\n  <a href=\"../Course_Content/Week_1/home.html\" class=\"sidebar-item-text sidebar-link\">\\n <span class=\"menu-text\">Week 1</span></a>\\n  </div>\\n</li>\\n          <li class=\"sidebar-item\">\\n  <div class=\"sidebar-item-container\"> \\n  <a href=\"../Course_Content/Week_2/home.html\" class=\"sidebar-item-text sidebar-link\">\\n <span class=\"menu-text\">Week 2</span></a>\\n  </div>\\n</li>\\n          <li class=\"sidebar-item\">\\n  <div class=\"sidebar-item-container\"> \\n  <a href=\"../Course_Content/Week_3/home.html\" class=\"sidebar-item-text sidebar-link\">\\n <span class=\"menu-text\">Week 3</span></a>\\n  </div>\\n</li>\\n          <li class=\"sidebar-item\">\\n  <div class=\"sidebar-item-container\"> \\n  <a href=\"../Course_Content/Week_4/home.html\" class=\"sidebar-item-text sidebar-link\">\\n <span class=\"menu-text\">Week 4</span></a>\\n  </div>\\n</li>\\n      </ul>\\n  </li>\\n        <li class=\"sidebar-item sidebar-item-section\">\\n      <div class=\"sidebar-item-container\"> \\n            <a class=\"sidebar-item-text sidebar-link text-start\" data-bs-toggle=\"collapse\" data-bs-target=\"#quarto-sidebar-section-2\" aria-expanded=\"true\">\\n <span class=\"menu-text\">Homework</span></a>\\n          <a class=\"sidebar-item-toggle text-start\" data-bs-toggle=\"collapse\" data-bs-target=\"#quarto-sidebar-section-2\" aria-expanded=\"true\" aria-label=\"Toggle section\">\\n            <i class=\"bi bi-chevron-right ms-2\"></i>\\n          </a> \\n      </div>\\n      <ul id=\"quarto-sidebar-section-2\" class=\"collapse list-unstyled sidebar-section depth1 show\">  \\n          <li class=\"sidebar-item\">\\n  <div class=\"sidebar-item-container\"> \\n  <a href=\"../Homework/HW1.html\" class=\"sidebar-item-text sidebar-link\">\\n <span class=\"menu-text\">HW1: Probability</span></a>\\n  </div>\\n</li>\\n      </ul>\\n  </li>\\n        <li class=\"sidebar-item sidebar-item-section\">\\n      <div class=\"sidebar-item-container\"> \\n            <a class=\"sidebar-item-text sidebar-link text-start\" data-bs-toggle=\"collapse\" data-bs-target=\"#quarto-sidebar-section-3\" aria-expanded=\"true\">\\n <span class=\"menu-text\">Ethics Discussions</span></a>\\n          <a class=\"sidebar-item-toggle text-start\" data-bs-toggle=\"collapse\" data-bs-target=\"#quarto-sidebar-section-3\" aria-expanded=\"true\" aria-label=\"Toggle section\">\\n            <i class=\"bi bi-chevron-right ms-2\"></i>\\n          </a> \\n      </div>\\n      <ul id=\"quarto-sidebar-section-3\" class=\"collapse list-unstyled sidebar-section depth1 show\">  \\n          <li class=\"sidebar-item\">\\n  <div class=\"sidebar-item-container\"> \\n  <a href=\"../Ethics/Week_2.html\" class=\"sidebar-item-text sidebar-link\">\\n <span class=\"menu-text\">W2: Political Content</span></a>\\n  </div>\\n</li>\\n          <li class=\"sidebar-item\">\\n  <div class=\"sidebar-item-container\"> \\n  <a href=\"../Ethics/Week_3.html\" class=\"sidebar-item-text sidebar-link\">\\n <span class=\"menu-text\">W3: Creative Work</span></a>\\n  </div>\\n</li>\\n          <li class=\"sidebar-item\">\\n  <div class=\"sidebar-item-container\"> \\n  <a href=\"../Ethics/Week_4.html\" class=\"sidebar-item-text sidebar-link\">\\n <span class=\"menu-text\">W4: Mental Health Support</span></a>\\n  </div>\\n</li>\\n      </ul>\\n  </li>\\n        <li class=\"sidebar-item sidebar-item-section\">\\n      <div class=\"sidebar-item-container\"> \\n            <a class=\"sidebar-item-text sidebar-link text-start\" data-bs-toggle=\"collapse\" data-bs-target=\"#quarto-sidebar-section-4\" aria-expanded=\"true\">\\n <span class=\"menu-text\">Syllabus</span></a>\\n          <a class=\"sidebar-item-toggle text-start\" data-bs-toggle=\"collapse\" data-bs-target=\"#quarto-sidebar-section-4\" aria-expanded=\"true\" aria-label=\"Toggle section\">\\n            <i class=\"bi bi-chevron-right ms-2\"></i>\\n          </a> \\n      </div>\\n      <ul id=\"quarto-sidebar-section-4\" class=\"collapse list-unstyled sidebar-section depth1 show\">  \\n          <li class=\"sidebar-item\">\\n  <div class=\"sidebar-item-container\"> \\n  <a href=\"../Syllabus/Key_Info.html\" class=\"sidebar-item-text sidebar-link active\">\\n <span class=\"menu-text\">Key Info</span></a>\\n  </div>\\n</li>\\n          <li class=\"sidebar-item\">\\n  <div class=\"sidebar-item-container\"> \\n  <a href=\"../Syllabus/Syllabus.html\" class=\"sidebar-item-text sidebar-link\">\\n <span class=\"menu-text\">Official Syllabus</span></a>\\n  </div>\\n</li>\\n      </ul>\\n  </li>\\n    </ul>\\n    </div>\\n</nav>\\n<div id=\"quarto-sidebar-glass\" data-bs-toggle=\"collapse\" data-bs-target=\"#quarto-sidebar,#quarto-sidebar-glass\"></div>\\n<!-- margin-sidebar -->\\n    <div id=\"quarto-margin-sidebar\" class=\"sidebar margin-sidebar\">\\n        <nav id=\"TOC\" role=\"doc-toc\" class=\"toc-active\">\\n    <h2 id=\"toc-title\">On this page</h2>\\n   \\n  <ul>\\n  <li><a href=\"#syllabus-key-info\" id=\"toc-syllabus-key-info\" class=\"nav-link active\" data-scroll-target=\"#syllabus-key-info\">Syllabus (Key Info)</a>\\n  <ul class=\"collapse\">\\n  <li><a href=\"#description\" id=\"toc-description\" class=\"nav-link\" data-scroll-target=\"#description\">Description</a></li>\\n  <li><a href=\"#course-objective\" id=\"toc-course-objective\" class=\"nav-link\" data-scroll-target=\"#course-objective\">Course Objective</a></li>\\n  <li><a href=\"#expected-learning-outcomes\" id=\"toc-expected-learning-outcomes\" class=\"nav-link\" data-scroll-target=\"#expected-learning-outcomes\">Expected Learning Outcomes</a></li>\\n  </ul></li>\\n  </ul>\\n</nav>\\n    </div>\\n<!-- main -->\\n<main class=\"content\" id=\"quarto-document-content\">\\n\\n\\n\\n<section id=\"syllabus-key-info\" class=\"level1\">\\n<h1>Syllabus (Key Info)</h1>\\n<section id=\"description\" class=\"level2\">\\n<h2 class=\"anchored\" data-anchor-id=\"description\">Description</h2>\\n<p>The course introduces students to the principles of data science, which are essential for computer scientists to make effective decisions in their professional careers. In today’s data-driven world, a wide range of computer science sub-disciplines heavily rely on data collection, analysis, and interpretation. With the pervasive presence of artificial intelligence (AI) in our lives, understanding the basics of how these systems work is becoming increasingly important. Additionally, it covers the basics of artificial intelligence (AI) systems and examines practical use cases, current news, and ethical considerations through readings and discussions.</p>\\n</section>\\n<section id=\"course-objective\" class=\"level2\">\\n<h2 class=\"anchored\" data-anchor-id=\"course-objective\">Course Objective</h2>\\n<p>Course Objectives</p>\\n<p>This course aims to introduce students to the principles and techniques of data science, enabling them to make effective decisions in their computer science careers. During this course, the student will,</p>\\n<ul class=\"task-list\">\\n<li><p><input type=\"checkbox\">Understand the fundamental concepts and principles of data science, including data collection, preprocessing, analysis, and interpretation.</p></li>\\n<li><p><input type=\"checkbox\">Apply data analysis and visualization techniques to derive insights from diverse datasets.</p></li>\\n<li><p><input type=\"checkbox\">Gain familiarity with machine learning algorithms and their practical applications.</p></li>\\n<li><p><input type=\"checkbox\">Develop proficiency in using data science tools and programming languages.</p></li>\\n<li><p><input type=\"checkbox\">Engage in critical thinking and problem-solving through project-based assignments.</p></li>\\n<li><p><input type=\"checkbox\">Explore the ethical considerations associated with data-driven decision-making.</p></li>\\n<li><p><input type=\"checkbox\">Stay informed about current trends and developments in data science and artificial intelligence.</p></li>\\n</ul>\\n</section>\\n<section id=\"expected-learning-outcomes\" class=\"level2\">\\n<h2 class=\"anchored\" data-anchor-id=\"expected-learning-outcomes\">Expected Learning Outcomes</h2>\\n<p>A student who successfully completes this course will be able to:</p>\\n<ul class=\"task-list\">\\n<li><p><input type=\"checkbox\">Explain the difference between different measures of centrality and variability (means vs.&nbsp;medians, variance vs.&nbsp;interquartile range, etc.)</p></li>\\n<li><p><input type=\"checkbox\">Convert a raw data source into a version appropriate for downstream analysis using Python.</p></li>\\n<li><p><input type=\"checkbox\">Write appropriate visualizations for different sources and types of data.</p></li>\\n<li><p><input type=\"checkbox\">Explain why we seek to build machine learning models that generalize rather than memorize their input.</p></li>\\n<li><p><input type=\"checkbox\">Explain the different uses for training, validation, and testing datasets</p></li>\\n<li><p><input type=\"checkbox\">Select the appropriate evaluation measure for the dataset and task being solved</p></li>\\n<li><p><input type=\"checkbox\">Articulate the difference between supervised and unsupervised machine learning, as well as select the appropriate methodology for a given problem</p></li>\\n<li><p><input type=\"checkbox\">Demonstrate awareness of bias and ethics in data science.</p></li>\\n</ul>\\n\\n\\n</section>\\n</section>\\n\\n</main> <!-- /main -->\\n<script id=\"quarto-html-after-body\" type=\"application/javascript\">\\nwindow.document.addEventListener(\"DOMContentLoaded\", function (event) {\\n  const toggleBodyColorMode = (bsSheetEl) => {\\n    const mode = bsSheetEl.getAttribute(\"data-mode\");\\n    const bodyEl = window.document.querySelector(\"body\");\\n    if (mode === \"dark\") {\\n      bodyEl.classList.add(\"quarto-dark\");\\n      bodyEl.classList.remove(\"quarto-light\");\\n    } else {\\n      bodyEl.classList.add(\"quarto-light\");\\n      bodyEl.classList.remove(\"quarto-dark\");\\n    }\\n  }\\n  const toggleBodyColorPrimary = () => {\\n    const bsSheetEl = window.document.querySelector(\"link#quarto-bootstrap\");\\n    if (bsSheetEl) {\\n      toggleBodyColorMode(bsSheetEl);\\n    }\\n  }\\n  toggleBodyColorPrimary();  \\n  const icon = \"\\ue9cb\";\\n  const anchorJS = new window.AnchorJS();\\n  anchorJS.options = {\\n    placement: \\'right\\',\\n    icon: icon\\n  };\\n  anchorJS.add(\\'.anchored\\');\\n  const isCodeAnnotation = (el) => {\\n    for (const clz of el.classList) {\\n      if (clz.startsWith(\\'code-annotation-\\')) {                     \\n        return true;\\n      }\\n    }\\n    return false;\\n  }\\n  const clipboard = new window.ClipboardJS(\\'.code-copy-button\\', {\\n    text: function(trigger) {\\n      const codeEl = trigger.previousElementSibling.cloneNode(true);\\n      for (const childEl of codeEl.children) {\\n        if (isCodeAnnotation(childEl)) {\\n          childEl.remove();\\n        }\\n      }\\n      return codeEl.innerText;\\n    }\\n  });\\n  clipboard.on(\\'success\\', function(e) {\\n    // button target\\n    const button = e.trigger;\\n    // don\\'t keep focus\\n    button.blur();\\n    // flash \"checked\"\\n    button.classList.add(\\'code-copy-button-checked\\');\\n    var currentTitle = button.getAttribute(\"title\");\\n    button.setAttribute(\"title\", \"Copied!\");\\n    let tooltip;\\n    if (window.bootstrap) {\\n      button.setAttribute(\"data-bs-toggle\", \"tooltip\");\\n      button.setAttribute(\"data-bs-placement\", \"left\");\\n      button.setAttribute(\"data-bs-title\", \"Copied!\");\\n      tooltip = new bootstrap.Tooltip(button, \\n        { trigger: \"manual\", \\n          customClass: \"code-copy-button-tooltip\",\\n          offset: [0, -8]});\\n      tooltip.show();    \\n    }\\n    setTimeout(function() {\\n      if (tooltip) {\\n        tooltip.hide();\\n        button.removeAttribute(\"data-bs-title\");\\n        button.removeAttribute(\"data-bs-toggle\");\\n        button.removeAttribute(\"data-bs-placement\");\\n      }\\n      button.setAttribute(\"title\", currentTitle);\\n      button.classList.remove(\\'code-copy-button-checked\\');\\n    }, 1000);\\n    // clear code selection\\n    e.clearSelection();\\n  });\\n  function tippyHover(el, contentFn) {\\n    const config = {\\n      allowHTML: true,\\n      content: contentFn,\\n      maxWidth: 500,\\n      delay: 100,\\n      arrow: false,\\n      appendTo: function(el) {\\n          return el.parentElement;\\n      },\\n      interactive: true,\\n      interactiveBorder: 10,\\n      theme: \\'quarto\\',\\n      placement: \\'bottom-start\\'\\n    };\\n    window.tippy(el, config); \\n  }\\n  const noterefs = window.document.querySelectorAll(\\'a[role=\"doc-noteref\"]\\');\\n  for (var i=0; i<noterefs.length; i++) {\\n    const ref = noterefs[i];\\n    tippyHover(ref, function() {\\n      // use id or data attribute instead here\\n      let href = ref.getAttribute(\\'data-footnote-href\\') || ref.getAttribute(\\'href\\');\\n      try { href = new URL(href).hash; } catch {}\\n      const id = href.replace(/^#\\\\/?/, \"\");\\n      const note = window.document.getElementById(id);\\n      return note.innerHTML;\\n    });\\n  }\\n      let selectedAnnoteEl;\\n      const selectorForAnnotation = ( cell, annotation) => {\\n        let cellAttr = \\'data-code-cell=\"\\' + cell + \\'\"\\';\\n        let lineAttr = \\'data-code-annotation=\"\\' +  annotation + \\'\"\\';\\n        const selector = \\'span[\\' + cellAttr + \\'][\\' + lineAttr + \\']\\';\\n        return selector;\\n      }\\n      const selectCodeLines = (annoteEl) => {\\n        const doc = window.document;\\n        const targetCell = annoteEl.getAttribute(\"data-target-cell\");\\n        const targetAnnotation = annoteEl.getAttribute(\"data-target-annotation\");\\n        const annoteSpan = window.document.querySelector(selectorForAnnotation(targetCell, targetAnnotation));\\n        const lines = annoteSpan.getAttribute(\"data-code-lines\").split(\",\");\\n        const lineIds = lines.map((line) => {\\n          return targetCell + \"-\" + line;\\n        })\\n        let top = null;\\n        let height = null;\\n        let parent = null;\\n        if (lineIds.length > 0) {\\n            //compute the position of the single el (top and bottom and make a div)\\n            const el = window.document.getElementById(lineIds[0]);\\n            top = el.offsetTop;\\n            height = el.offsetHeight;\\n            parent = el.parentElement.parentElement;\\n          if (lineIds.length > 1) {\\n            const lastEl = window.document.getElementById(lineIds[lineIds.length - 1]);\\n            const bottom = lastEl.offsetTop + lastEl.offsetHeight;\\n            height = bottom - top;\\n          }\\n          if (top !== null && height !== null && parent !== null) {\\n            // cook up a div (if necessary) and position it \\n            let div = window.document.getElementById(\"code-annotation-line-highlight\");\\n            if (div === null) {\\n              div = window.document.createElement(\"div\");\\n              div.setAttribute(\"id\", \"code-annotation-line-highlight\");\\n              div.style.position = \\'absolute\\';\\n              parent.appendChild(div);\\n            }\\n            div.style.top = top - 2 + \"px\";\\n            div.style.height = height + 4 + \"px\";\\n            let gutterDiv = window.document.getElementById(\"code-annotation-line-highlight-gutter\");\\n            if (gutterDiv === null) {\\n              gutterDiv = window.document.createElement(\"div\");\\n              gutterDiv.setAttribute(\"id\", \"code-annotation-line-highlight-gutter\");\\n              gutterDiv.style.position = \\'absolute\\';\\n              const codeCell = window.document.getElementById(targetCell);\\n              const gutter = codeCell.querySelector(\\'.code-annotation-gutter\\');\\n              gutter.appendChild(gutterDiv);\\n            }\\n            gutterDiv.style.top = top - 2 + \"px\";\\n            gutterDiv.style.height = height + 4 + \"px\";\\n          }\\n          selectedAnnoteEl = annoteEl;\\n        }\\n      };\\n      const unselectCodeLines = () => {\\n        const elementsIds = [\"code-annotation-line-highlight\", \"code-annotation-line-highlight-gutter\"];\\n        elementsIds.forEach((elId) => {\\n          const div = window.document.getElementById(elId);\\n          if (div) {\\n            div.remove();\\n          }\\n        });\\n        selectedAnnoteEl = undefined;\\n      };\\n      // Attach click handler to the DT\\n      const annoteDls = window.document.querySelectorAll(\\'dt[data-target-cell]\\');\\n      for (const annoteDlNode of annoteDls) {\\n        annoteDlNode.addEventListener(\\'click\\', (event) => {\\n          const clickedEl = event.target;\\n          if (clickedEl !== selectedAnnoteEl) {\\n            unselectCodeLines();\\n            const activeEl = window.document.querySelector(\\'dt[data-target-cell].code-annotation-active\\');\\n            if (activeEl) {\\n              activeEl.classList.remove(\\'code-annotation-active\\');\\n            }\\n            selectCodeLines(clickedEl);\\n            clickedEl.classList.add(\\'code-annotation-active\\');\\n          } else {\\n            // Unselect the line\\n            unselectCodeLines();\\n            clickedEl.classList.remove(\\'code-annotation-active\\');\\n          }\\n        });\\n      }\\n  const findCites = (el) => {\\n    const parentEl = el.parentElement;\\n    if (parentEl) {\\n      const cites = parentEl.dataset.cites;\\n      if (cites) {\\n        return {\\n          el,\\n          cites: cites.split(\\' \\')\\n        };\\n      } else {\\n        return findCites(el.parentElement)\\n      }\\n    } else {\\n      return undefined;\\n    }\\n  };\\n  var bibliorefs = window.document.querySelectorAll(\\'a[role=\"doc-biblioref\"]\\');\\n  for (var i=0; i<bibliorefs.length; i++) {\\n    const ref = bibliorefs[i];\\n    const citeInfo = findCites(ref);\\n    if (citeInfo) {\\n      tippyHover(citeInfo.el, function() {\\n        var popup = window.document.createElement(\\'div\\');\\n        citeInfo.cites.forEach(function(cite) {\\n          var citeDiv = window.document.createElement(\\'div\\');\\n          citeDiv.classList.add(\\'hanging-indent\\');\\n          citeDiv.classList.add(\\'csl-entry\\');\\n          var biblioDiv = window.document.getElementById(\\'ref-\\' + cite);\\n          if (biblioDiv) {\\n            citeDiv.innerHTML = biblioDiv.innerHTML;\\n          }\\n          popup.appendChild(citeDiv);\\n        });\\n        return popup.innerHTML;\\n      });\\n    }\\n  }\\n});\\n</script>\\n</div> <!-- /content -->\\n\\n\\n\\n</body></html>'"
      ]
     },
     "execution_count": 6,
     "metadata": {},
     "output_type": "execute_result"
    }
   ],
   "source": [
    "r.text"
   ]
  },
  {
   "cell_type": "markdown",
   "id": "32bcc885",
   "metadata": {},
   "source": [
    "### 1.2 BeautifulSoup"
   ]
  },
  {
   "cell_type": "code",
   "execution_count": null,
   "id": "657e27ef",
   "metadata": {},
   "outputs": [],
   "source": [
    "from bs4 import BeautifulSoup"
   ]
  },
  {
   "cell_type": "code",
   "execution_count": 7,
   "id": "1d12095a",
   "metadata": {
    "slideshow": {
     "slide_type": "slide"
    }
   },
   "outputs": [],
   "source": [
    "soup = BeautifulSoup(r.text, 'html.parser')"
   ]
  },
  {
   "cell_type": "code",
   "execution_count": null,
   "id": "c53dd5a8",
   "metadata": {
    "scrolled": false,
    "slideshow": {
     "slide_type": "slide"
    }
   },
   "outputs": [],
   "source": [
    "print(soup.prettify()) #Output cleared for web"
   ]
  },
  {
   "cell_type": "code",
   "execution_count": null,
   "id": "9af214d3",
   "metadata": {
    "scrolled": false,
    "slideshow": {
     "slide_type": "slide"
    }
   },
   "outputs": [],
   "source": [
    "print(soup.get_text()) #Output cleared for web"
   ]
  },
  {
   "cell_type": "code",
   "execution_count": 10,
   "id": "939234f9",
   "metadata": {
    "slideshow": {
     "slide_type": "slide"
    }
   },
   "outputs": [
    {
     "name": "stdout",
     "output_type": "stream",
     "text": [
      "On this page\n",
      "Syllabus (Key Info)\n",
      "Description\n",
      "Course Objective\n",
      "Expected Learning Outcomes\n"
     ]
    }
   ],
   "source": [
    "# creating a list of all common heading tags\n",
    "heading_tags = [\"h1\", \"h2\", \"h3\"]\n",
    "for tags in soup.find_all(heading_tags):\n",
    "    print(tags.text.strip())"
   ]
  },
  {
   "cell_type": "markdown",
   "id": "73c94c10",
   "metadata": {
    "slideshow": {
     "slide_type": "slide"
    }
   },
   "source": [
    "## 2. Data Processing"
   ]
  },
  {
   "cell_type": "markdown",
   "id": "3c653f29",
   "metadata": {
    "slideshow": {
     "slide_type": "slide"
    }
   },
   "source": [
    "### 2.1 Numpy\n",
    "\n",
    "Support for large, multi-dimensional arrays and matrices, and a large collection of high-level mathematical functions to operate on these arrays."
   ]
  },
  {
   "cell_type": "code",
   "execution_count": 11,
   "id": "d1a6ca6a",
   "metadata": {},
   "outputs": [],
   "source": [
    "import numpy as np"
   ]
  },
  {
   "cell_type": "markdown",
   "id": "e6df5699",
   "metadata": {
    "slideshow": {
     "slide_type": "subslide"
    }
   },
   "source": [
    "ndarray object: an n-dimensional array of **homogeneous** data types, with many operations being performed in\n",
    "compiled code for performance\n",
    "\n",
    "* Fixed Size\n",
    "* Same type of data\n",
    "* Much more effiecent mathematical operations than built in data types like lists."
   ]
  },
  {
   "cell_type": "markdown",
   "id": "4e6686fd",
   "metadata": {
    "slideshow": {
     "slide_type": "subslide"
    }
   },
   "source": [
    "numpy.dtype \n",
    "- intc (same as a C integer) and intp (used for indexing)\n",
    "- int8, int16, int32, int64\n",
    "- uint8, uint16, uint32, uint64\n",
    "- float16, float32, float64\n",
    "- complex64, complex128"
   ]
  },
  {
   "cell_type": "markdown",
   "id": "29061dcd",
   "metadata": {
    "slideshow": {
     "slide_type": "subslide"
    }
   },
   "source": [
    "**Create a numpy array**\n",
    "\n",
    "- Conversion from other Python structures (e.g., lists, tuples)\n",
    "- Built-in NumPy array creation (e.g., arange, ones, zeros, etc.)\n",
    "- Reading arrays from a file."
   ]
  },
  {
   "cell_type": "code",
   "execution_count": 12,
   "id": "f08218df",
   "metadata": {
    "slideshow": {
     "slide_type": "subslide"
    }
   },
   "outputs": [
    {
     "data": {
      "text/plain": [
       "array([2, 3, 1, 0])"
      ]
     },
     "execution_count": 12,
     "metadata": {},
     "output_type": "execute_result"
    }
   ],
   "source": [
    "np.array([2,3,1,0])"
   ]
  },
  {
   "cell_type": "code",
   "execution_count": 13,
   "id": "ff73f542",
   "metadata": {
    "slideshow": {
     "slide_type": "subslide"
    }
   },
   "outputs": [
    {
     "data": {
      "text/plain": [
       "array([[0., 0., 0., 0., 0.],\n",
       "       [0., 0., 0., 0., 0.],\n",
       "       [0., 0., 0., 0., 0.],\n",
       "       [0., 0., 0., 0., 0.],\n",
       "       [0., 0., 0., 0., 0.]])"
      ]
     },
     "execution_count": 13,
     "metadata": {},
     "output_type": "execute_result"
    }
   ],
   "source": [
    "np.zeros((5, 5)) #np.zeros(shape)"
   ]
  },
  {
   "cell_type": "code",
   "execution_count": 14,
   "id": "cd7637fa",
   "metadata": {
    "slideshow": {
     "slide_type": "subslide"
    }
   },
   "outputs": [
    {
     "data": {
      "text/plain": [
       "array([[1., 1.],\n",
       "       [1., 1.],\n",
       "       [1., 1.],\n",
       "       [1., 1.],\n",
       "       [1., 1.],\n",
       "       [1., 1.]])"
      ]
     },
     "execution_count": 14,
     "metadata": {},
     "output_type": "execute_result"
    }
   ],
   "source": [
    "np.ones((6, 2))#np.ones(shape)"
   ]
  },
  {
   "cell_type": "code",
   "execution_count": 15,
   "id": "467b1272",
   "metadata": {
    "slideshow": {
     "slide_type": "subslide"
    }
   },
   "outputs": [
    {
     "data": {
      "text/plain": [
       "array([15, 14, 13, 12, 11, 10,  9,  8,  7,  6])"
      ]
     },
     "execution_count": 15,
     "metadata": {},
     "output_type": "execute_result"
    }
   ],
   "source": [
    "np.arange(15,5,-1) #Like range function in python"
   ]
  },
  {
   "cell_type": "code",
   "execution_count": 16,
   "id": "2c59cfa1",
   "metadata": {
    "slideshow": {
     "slide_type": "subslide"
    }
   },
   "outputs": [
    {
     "data": {
      "text/plain": [
       "array([  0.,  25.,  50.,  75., 100.])"
      ]
     },
     "execution_count": 16,
     "metadata": {},
     "output_type": "execute_result"
    }
   ],
   "source": [
    "#Return evenly spaced numbers over a specified interval.\n",
    "np.linspace(0, 100, 5) # numpy.linspace(start, stop, num=50, endpoint=True, retstep=False, dtype=None, axis=0)"
   ]
  },
  {
   "cell_type": "code",
   "execution_count": 17,
   "id": "dd66e039",
   "metadata": {
    "slideshow": {
     "slide_type": "subslide"
    }
   },
   "outputs": [
    {
     "data": {
      "text/plain": [
       "0.7026417115321625"
      ]
     },
     "execution_count": 17,
     "metadata": {},
     "output_type": "execute_result"
    }
   ],
   "source": [
    "np.random.random() #Keeps changing"
   ]
  },
  {
   "cell_type": "code",
   "execution_count": 18,
   "id": "5c4a03a8",
   "metadata": {
    "slideshow": {
     "slide_type": "subslide"
    }
   },
   "outputs": [
    {
     "data": {
      "text/plain": [
       "0.21864992820211548"
      ]
     },
     "execution_count": 18,
     "metadata": {},
     "output_type": "execute_result"
    }
   ],
   "source": [
    "random_obj = np.random.default_rng(seed=None) #default_rng is the recommended constructor for the random number class\n",
    "random_obj.random() #changes if you do not give a seed"
   ]
  },
  {
   "cell_type": "code",
   "execution_count": 19,
   "id": "693b81e1",
   "metadata": {
    "slideshow": {
     "slide_type": "subslide"
    }
   },
   "outputs": [
    {
     "data": {
      "text/plain": [
       "0.7739560485559633"
      ]
     },
     "execution_count": 19,
     "metadata": {},
     "output_type": "execute_result"
    }
   ],
   "source": [
    "random_obj = np.random.default_rng(seed=42) #default_rng is the recommended constructor for the random number class\n",
    "random_obj.random()"
   ]
  },
  {
   "cell_type": "code",
   "execution_count": 20,
   "id": "4ea5b73a",
   "metadata": {
    "slideshow": {
     "slide_type": "subslide"
    }
   },
   "outputs": [
    {
     "name": "stdout",
     "output_type": "stream",
     "text": [
      "Original:\n",
      " [0 1 2 3 4 5 6 7 8]\n",
      "After using reshape:\n",
      " [[0 1 2]\n",
      " [3 4 5]\n",
      " [6 7 8]]\n"
     ]
    }
   ],
   "source": [
    "print(\"Original:\\n\",np.arange(9))\n",
    "print(\"After using reshape:\\n\",np.arange(9).reshape(3,3))"
   ]
  },
  {
   "cell_type": "code",
   "execution_count": 21,
   "id": "b6099adc",
   "metadata": {
    "slideshow": {
     "slide_type": "subslide"
    }
   },
   "outputs": [
    {
     "name": "stdout",
     "output_type": "stream",
     "text": [
      "[2 3 4 5 6 7 8 9]\n"
     ]
    },
    {
     "data": {
      "text/plain": [
       "9"
      ]
     },
     "execution_count": 21,
     "metadata": {},
     "output_type": "execute_result"
    }
   ],
   "source": [
    "x = np.arange(2,10)\n",
    "print(x)\n",
    "x[-1]"
   ]
  },
  {
   "cell_type": "code",
   "execution_count": 22,
   "id": "aed64f65",
   "metadata": {
    "slideshow": {
     "slide_type": "subslide"
    }
   },
   "outputs": [
    {
     "ename": "ValueError",
     "evalue": "cannot reshape array of size 8 into shape (1,3)",
     "output_type": "error",
     "traceback": [
      "\u001b[0;31m---------------------------------------------------------------------------\u001b[0m",
      "\u001b[0;31mValueError\u001b[0m                                Traceback (most recent call last)",
      "Cell \u001b[0;32mIn[22], line 1\u001b[0m\n\u001b[0;32m----> 1\u001b[0m \u001b[43mx\u001b[49m\u001b[38;5;241;43m.\u001b[39;49m\u001b[43mshape\u001b[49m \u001b[38;5;241m=\u001b[39m (\u001b[38;5;241m1\u001b[39m,\u001b[38;5;241m3\u001b[39m)\n\u001b[1;32m      2\u001b[0m \u001b[38;5;28mprint\u001b[39m(x)\n\u001b[1;32m      3\u001b[0m x[\u001b[38;5;241m-\u001b[39m\u001b[38;5;241m1\u001b[39m] \u001b[38;5;66;03m# next slide\u001b[39;00m\n",
      "\u001b[0;31mValueError\u001b[0m: cannot reshape array of size 8 into shape (1,3)"
     ]
    }
   ],
   "source": [
    "x.shape = (1,3)\n",
    "print(x)\n",
    "x[-1] # next slide"
   ]
  },
  {
   "cell_type": "code",
   "execution_count": 23,
   "id": "5ee93e02",
   "metadata": {
    "slideshow": {
     "slide_type": "subslide"
    }
   },
   "outputs": [
    {
     "name": "stdout",
     "output_type": "stream",
     "text": [
      "Array:\n",
      " [[2 3 4 5]\n",
      " [6 7 8 9]] \n",
      "\n",
      "x[-1]:  [2 3 4 5]\n",
      "x[1,3]:  5\n"
     ]
    }
   ],
   "source": [
    "x.shape = (2,4)\n",
    "print(\"Array:\\n\",x,\"\\n\")\n",
    "print(\"x[-1]: \",x[0])\n",
    "print(\"x[1,3]: \", x[0,3])"
   ]
  },
  {
   "cell_type": "code",
   "execution_count": 24,
   "id": "aaf7aa7f",
   "metadata": {
    "slideshow": {
     "slide_type": "subslide"
    }
   },
   "outputs": [
    {
     "data": {
      "text/plain": [
       "array([13, 15, 17, 19, 21, 23, 25, 27, 29, 31])"
      ]
     },
     "execution_count": 24,
     "metadata": {},
     "output_type": "execute_result"
    }
   ],
   "source": [
    "a = np.arange(1,11)\n",
    "b = np.arange(12,22)\n",
    "a+b"
   ]
  },
  {
   "cell_type": "code",
   "execution_count": 25,
   "id": "f80f2208",
   "metadata": {
    "slideshow": {
     "slide_type": "subslide"
    }
   },
   "outputs": [
    {
     "data": {
      "text/plain": [
       "array([[260, 275],\n",
       "       [660, 700]])"
      ]
     },
     "execution_count": 25,
     "metadata": {},
     "output_type": "execute_result"
    }
   ],
   "source": [
    "a = np.arange(1,11).reshape(2,5)\n",
    "b = np.arange(12,22).reshape(5,2)\n",
    "result = np.dot(a,b) # To multiply two arrays\n",
    "result"
   ]
  },
  {
   "cell_type": "code",
   "execution_count": 26,
   "id": "6356656c",
   "metadata": {
    "slideshow": {
     "slide_type": "subslide"
    }
   },
   "outputs": [
    {
     "data": {
      "text/plain": [
       "array([[260, 660],\n",
       "       [275, 700]])"
      ]
     },
     "execution_count": 26,
     "metadata": {},
     "output_type": "execute_result"
    }
   ],
   "source": [
    "result.transpose()"
   ]
  },
  {
   "cell_type": "code",
   "execution_count": 27,
   "id": "3b24f9eb",
   "metadata": {
    "slideshow": {
     "slide_type": "subslide"
    }
   },
   "outputs": [
    {
     "data": {
      "text/plain": [
       "array([[ 1.4 , -0.55],\n",
       "       [-1.32,  0.52]])"
      ]
     },
     "execution_count": 27,
     "metadata": {},
     "output_type": "execute_result"
    }
   ],
   "source": [
    "np.linalg.inv(result) # and finally"
   ]
  },
  {
   "cell_type": "markdown",
   "id": "15110337",
   "metadata": {
    "slideshow": {
     "slide_type": "slide"
    }
   },
   "source": [
    "### 2.2 Scipy\n",
    "\n",
    "- built on the NumPy \n",
    "- various tools and functions for solving common problems in scientific computing.\n",
    "\n",
    "ex: \n",
    "- Fourier Transforms (scipy.fftpack)\n",
    "- Multidimensional image processing (scipy.ndimage)\n",
    "- Spatial data structures and algorithms (scipy.spatial)\n",
    " ..\n"
   ]
  },
  {
   "cell_type": "markdown",
   "id": "ddcc7bf9",
   "metadata": {
    "slideshow": {
     "slide_type": "slide"
    }
   },
   "source": [
    "### 2.3 Continue our discussion on Pandas"
   ]
  },
  {
   "cell_type": "code",
   "execution_count": 28,
   "id": "f0165835",
   "metadata": {
    "slideshow": {
     "slide_type": "subslide"
    }
   },
   "outputs": [],
   "source": [
    "import pandas as pd"
   ]
  },
  {
   "cell_type": "code",
   "execution_count": 29,
   "id": "6bc2f1f3",
   "metadata": {
    "slideshow": {
     "slide_type": "subslide"
    }
   },
   "outputs": [],
   "source": [
    "WORLD_DATA_PATH = \"spotify-top-50/data/spotify-streaming-top-50-usa.csv\""
   ]
  },
  {
   "cell_type": "code",
   "execution_count": 30,
   "id": "bbd2dedd",
   "metadata": {
    "slideshow": {
     "slide_type": "subslide"
    }
   },
   "outputs": [],
   "source": [
    "world_df = pd.read_csv(WORLD_DATA_PATH)"
   ]
  },
  {
   "cell_type": "code",
   "execution_count": 31,
   "id": "ad1b7153",
   "metadata": {
    "slideshow": {
     "slide_type": "subslide"
    }
   },
   "outputs": [
    {
     "data": {
      "text/html": [
       "<div>\n",
       "<style scoped>\n",
       "    .dataframe tbody tr th:only-of-type {\n",
       "        vertical-align: middle;\n",
       "    }\n",
       "\n",
       "    .dataframe tbody tr th {\n",
       "        vertical-align: top;\n",
       "    }\n",
       "\n",
       "    .dataframe thead th {\n",
       "        text-align: right;\n",
       "    }\n",
       "</style>\n",
       "<table border=\"1\" class=\"dataframe\">\n",
       "  <thead>\n",
       "    <tr style=\"text-align: right;\">\n",
       "      <th></th>\n",
       "      <th>date</th>\n",
       "      <th>position</th>\n",
       "      <th>song</th>\n",
       "      <th>artist</th>\n",
       "      <th>popularity</th>\n",
       "      <th>duration_ms</th>\n",
       "      <th>album_type</th>\n",
       "      <th>total_tracks</th>\n",
       "      <th>release_date</th>\n",
       "      <th>is_explicit</th>\n",
       "      <th>album_cover_url</th>\n",
       "    </tr>\n",
       "  </thead>\n",
       "  <tbody>\n",
       "    <tr>\n",
       "      <th>269</th>\n",
       "      <td>2023-05-23</td>\n",
       "      <td>20</td>\n",
       "      <td>Wasted On You</td>\n",
       "      <td>Morgan Wallen</td>\n",
       "      <td>86</td>\n",
       "      <td>178520</td>\n",
       "      <td>album</td>\n",
       "      <td>30</td>\n",
       "      <td>2021-01-08</td>\n",
       "      <td>False</td>\n",
       "      <td>https://i.scdn.co/image/ab67616d0000b2737d6813...</td>\n",
       "    </tr>\n",
       "  </tbody>\n",
       "</table>\n",
       "</div>"
      ],
      "text/plain": [
       "           date  position           song         artist  popularity  \\\n",
       "269  2023-05-23        20  Wasted On You  Morgan Wallen          86   \n",
       "\n",
       "     duration_ms album_type  total_tracks release_date  is_explicit  \\\n",
       "269       178520      album            30   2021-01-08        False   \n",
       "\n",
       "                                       album_cover_url  \n",
       "269  https://i.scdn.co/image/ab67616d0000b2737d6813...  "
      ]
     },
     "execution_count": 31,
     "metadata": {},
     "output_type": "execute_result"
    }
   ],
   "source": [
    "world_df.sample()"
   ]
  },
  {
   "cell_type": "markdown",
   "id": "f356e710",
   "metadata": {},
   "source": [
    "**Q: The time range of the dataset?**"
   ]
  },
  {
   "cell_type": "code",
   "execution_count": 32,
   "id": "7c10afe0",
   "metadata": {
    "scrolled": true
   },
   "outputs": [
    {
     "data": {
      "text/plain": [
       "dtype('O')"
      ]
     },
     "execution_count": 32,
     "metadata": {},
     "output_type": "execute_result"
    }
   ],
   "source": [
    "world_df['date'].dtype"
   ]
  },
  {
   "cell_type": "code",
   "execution_count": 33,
   "id": "782d75bb",
   "metadata": {},
   "outputs": [
    {
     "data": {
      "text/plain": [
       "str"
      ]
     },
     "execution_count": 33,
     "metadata": {},
     "output_type": "execute_result"
    }
   ],
   "source": [
    "type(world_df['date'][0])"
   ]
  },
  {
   "cell_type": "code",
   "execution_count": 34,
   "id": "1b178152",
   "metadata": {},
   "outputs": [],
   "source": [
    "# Convert column date to date datatype\n",
    "\n",
    "world_df['date'] = pd.to_datetime(world_df['date'])"
   ]
  },
  {
   "cell_type": "code",
   "execution_count": 35,
   "id": "866e5220",
   "metadata": {},
   "outputs": [
    {
     "data": {
      "text/plain": [
       "(Timestamp('2023-06-27 00:00:00'), Timestamp('2023-05-18 00:00:00'))"
      ]
     },
     "execution_count": 35,
     "metadata": {},
     "output_type": "execute_result"
    }
   ],
   "source": [
    "# Q : What is the time range in which this dataset is recording top 50?\n",
    "# Assume that it records everyday\n",
    "\n",
    "world_df['date'].max(), world_df['date'].min()"
   ]
  }
 ],
 "metadata": {
  "celltoolbar": "Slideshow",
  "kernelspec": {
   "display_name": "Python 3 (ipykernel)",
   "language": "python",
   "name": "python3"
  },
  "language_info": {
   "codemirror_mode": {
    "name": "ipython",
    "version": 3
   },
   "file_extension": ".py",
   "mimetype": "text/x-python",
   "name": "python",
   "nbconvert_exporter": "python",
   "pygments_lexer": "ipython3",
   "version": "3.10.9"
  }
 },
 "nbformat": 4,
 "nbformat_minor": 5
}
