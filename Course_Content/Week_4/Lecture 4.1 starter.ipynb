{
 "cells": [
  {
   "cell_type": "markdown",
   "id": "221799d1",
   "metadata": {},
   "source": [
    "# Data Collection"
   ]
  },
  {
   "cell_type": "code",
   "execution_count": null,
   "id": "be60857f",
   "metadata": {
    "slideshow": {
     "slide_type": "slide"
    }
   },
   "outputs": [],
   "source": [
    "!pip install beautifulsoup4"
   ]
  },
  {
   "cell_type": "code",
   "execution_count": null,
   "id": "2dd0f1de",
   "metadata": {
    "slideshow": {
     "slide_type": "slide"
    }
   },
   "outputs": [],
   "source": [
    "import requests\n",
    "from bs4 import BeautifulSoup"
   ]
  },
  {
   "cell_type": "code",
   "execution_count": null,
   "id": "e60d0a1d",
   "metadata": {
    "slideshow": {
     "slide_type": "slide"
    }
   },
   "outputs": [],
   "source": [
    "URL = \"https://csc380.beingenfa.com/Syllabus/Key_Info.html\""
   ]
  },
  {
   "cell_type": "code",
   "execution_count": null,
   "id": "8ac5d31b",
   "metadata": {
    "slideshow": {
     "slide_type": "slide"
    }
   },
   "outputs": [],
   "source": [
    "r = requests.get(URL)"
   ]
  },
  {
   "cell_type": "code",
   "execution_count": null,
   "id": "e30c5e37",
   "metadata": {
    "slideshow": {
     "slide_type": "slide"
    }
   },
   "outputs": [],
   "source": [
    "r.status_code"
   ]
  },
  {
   "cell_type": "code",
   "execution_count": null,
   "id": "15be3e9a",
   "metadata": {
    "slideshow": {
     "slide_type": "slide"
    }
   },
   "outputs": [],
   "source": [
    "r.text"
   ]
  },
  {
   "cell_type": "code",
   "execution_count": null,
   "id": "1d12095a",
   "metadata": {
    "slideshow": {
     "slide_type": "slide"
    }
   },
   "outputs": [],
   "source": [
    "soup = BeautifulSoup(r.text, 'html.parser')"
   ]
  },
  {
   "cell_type": "code",
   "execution_count": null,
   "id": "c53dd5a8",
   "metadata": {
    "slideshow": {
     "slide_type": "slide"
    }
   },
   "outputs": [],
   "source": [
    "print(soup.prettify())"
   ]
  },
  {
   "cell_type": "code",
   "execution_count": null,
   "id": "9af214d3",
   "metadata": {
    "slideshow": {
     "slide_type": "slide"
    }
   },
   "outputs": [],
   "source": [
    "print(soup.get_text())"
   ]
  },
  {
   "cell_type": "code",
   "execution_count": null,
   "id": "939234f9",
   "metadata": {
    "slideshow": {
     "slide_type": "slide"
    }
   },
   "outputs": [],
   "source": [
    "# creating a list of all common heading tags\n",
    "heading_tags = [\"h1\", \"h2\", \"h3\"]\n",
    "for tags in soup.find_all(heading_tags):\n",
    "    print(tags.text.strip())"
   ]
  },
  {
   "cell_type": "markdown",
   "id": "07247640",
   "metadata": {
    "slideshow": {
     "slide_type": "slide"
    }
   },
   "source": [
    "# Data Processing"
   ]
  },
  {
   "cell_type": "markdown",
   "id": "dcd4b6d4",
   "metadata": {
    "slideshow": {
     "slide_type": "slide"
    }
   },
   "source": [
    "## Introduction to a few Libraries"
   ]
  },
  {
   "cell_type": "markdown",
   "id": "3ae73777",
   "metadata": {
    "slideshow": {
     "slide_type": "slide"
    }
   },
   "source": [
    "## 2.1.1 Numpy\n",
    "\n",
    "Support for large, multi-dimensional arrays and matrices, and a large collection of high-level mathematical functions to operate on these arrays."
   ]
  },
  {
   "cell_type": "code",
   "execution_count": null,
   "id": "f27f63e5",
   "metadata": {},
   "outputs": [],
   "source": [
    "import numpy as np"
   ]
  },
  {
   "cell_type": "markdown",
   "id": "e23d295b",
   "metadata": {
    "slideshow": {
     "slide_type": "subslide"
    }
   },
   "source": [
    "ndarray object: an n-dimensional array of **homogeneous** data types, with many operations being performed in\n",
    "compiled code for performance\n",
    "\n",
    "* Fixed Size\n",
    "* Same type of data\n",
    "* Much more effiecent mathematical operations than built in data types like lists."
   ]
  },
  {
   "cell_type": "markdown",
   "id": "10b17b4f",
   "metadata": {
    "slideshow": {
     "slide_type": "subslide"
    }
   },
   "source": [
    "numpy.dtype \n",
    "- intc (same as a C integer) and intp (used for indexing)\n",
    "- int8, int16, int32, int64\n",
    "- uint8, uint16, uint32, uint64\n",
    "- float16, float32, float64\n",
    "- complex64, complex128"
   ]
  },
  {
   "cell_type": "markdown",
   "id": "e40dafcb",
   "metadata": {
    "slideshow": {
     "slide_type": "subslide"
    }
   },
   "source": [
    "## Numpy Arrays"
   ]
  },
  {
   "cell_type": "markdown",
   "id": "033b45d5",
   "metadata": {
    "slideshow": {
     "slide_type": "subslide"
    }
   },
   "source": [
    "### Create a numpy array\n",
    "\n",
    "- Conversion from other Python structures (e.g., lists, tuples)\n",
    "- Built-in NumPy array creation (e.g., arange, ones, zeros, etc.)\n",
    "- Reading arrays from a file."
   ]
  },
  {
   "cell_type": "code",
   "execution_count": null,
   "id": "5d9ff6c3",
   "metadata": {
    "slideshow": {
     "slide_type": "subslide"
    }
   },
   "outputs": [],
   "source": [
    "np.array([2,3,1,0])"
   ]
  },
  {
   "cell_type": "code",
   "execution_count": null,
   "id": "2db71009",
   "metadata": {
    "slideshow": {
     "slide_type": "subslide"
    }
   },
   "outputs": [],
   "source": [
    "np.zeros((5, 5)) #np.zeros(shape)"
   ]
  },
  {
   "cell_type": "code",
   "execution_count": null,
   "id": "f536673a",
   "metadata": {
    "slideshow": {
     "slide_type": "subslide"
    }
   },
   "outputs": [],
   "source": [
    "np.ones((6, 2))#np.ones(shape)"
   ]
  },
  {
   "cell_type": "code",
   "execution_count": null,
   "id": "4c4abfd1",
   "metadata": {
    "slideshow": {
     "slide_type": "subslide"
    }
   },
   "outputs": [],
   "source": [
    "np.arange(15,5,-1) #Like range function in python"
   ]
  },
  {
   "cell_type": "code",
   "execution_count": null,
   "id": "6b979ede",
   "metadata": {
    "slideshow": {
     "slide_type": "subslide"
    }
   },
   "outputs": [],
   "source": [
    "#Return evenly spaced numbers over a specified interval.\n",
    "np.linspace(0, 100, 5) # numpy.linspace(start, stop, num=50, endpoint=True, retstep=False, dtype=None, axis=0)"
   ]
  },
  {
   "cell_type": "code",
   "execution_count": null,
   "id": "8ee3c0e1",
   "metadata": {
    "slideshow": {
     "slide_type": "subslide"
    }
   },
   "outputs": [],
   "source": [
    "np.random.random() #Keeps changing"
   ]
  },
  {
   "cell_type": "code",
   "execution_count": null,
   "id": "2933fdaa",
   "metadata": {
    "slideshow": {
     "slide_type": "subslide"
    }
   },
   "outputs": [],
   "source": [
    "random_obj = np.random.default_rng(seed=None) #default_rng is the recommended constructor for the random number class\n",
    "random_obj.random() #changes if you do not give a seed"
   ]
  },
  {
   "cell_type": "code",
   "execution_count": null,
   "id": "6a2f3b7d",
   "metadata": {
    "slideshow": {
     "slide_type": "subslide"
    }
   },
   "outputs": [],
   "source": [
    "random_obj = np.random.default_rng(seed=42) #default_rng is the recommended constructor for the random number class\n",
    "random_obj.random()"
   ]
  },
  {
   "cell_type": "code",
   "execution_count": null,
   "id": "de3a3b9c",
   "metadata": {
    "slideshow": {
     "slide_type": "subslide"
    }
   },
   "outputs": [],
   "source": [
    "print(\"Original:\\n\",np.arange(9))\n",
    "print(\"After using reshape:\\n\",np.arange(9).reshape(3,3))"
   ]
  },
  {
   "cell_type": "code",
   "execution_count": null,
   "id": "13d89100",
   "metadata": {
    "slideshow": {
     "slide_type": "subslide"
    }
   },
   "outputs": [],
   "source": [
    "x = np.arange(2,10)\n",
    "print(x)\n",
    "x[-1]"
   ]
  },
  {
   "cell_type": "code",
   "execution_count": null,
   "id": "37d90fc0",
   "metadata": {
    "slideshow": {
     "slide_type": "subslide"
    }
   },
   "outputs": [],
   "source": [
    "x.shape = (1,3)\n",
    "print(x)\n",
    "x[-1] # next slide"
   ]
  },
  {
   "cell_type": "code",
   "execution_count": null,
   "id": "8b91549f",
   "metadata": {
    "slideshow": {
     "slide_type": "subslide"
    }
   },
   "outputs": [],
   "source": [
    "x.shape = (2,4)\n",
    "print(\"Array:\\n\",x,\"\\n\")\n",
    "print(\"x[-1]: \",x[0])\n",
    "print(\"x[1,3]: \", x[0,3])"
   ]
  },
  {
   "cell_type": "code",
   "execution_count": null,
   "id": "6c09b444",
   "metadata": {
    "slideshow": {
     "slide_type": "subslide"
    }
   },
   "outputs": [],
   "source": [
    "a = np.arange(1,11)\n",
    "b = np.arange(12,22)\n",
    "a+b"
   ]
  },
  {
   "cell_type": "code",
   "execution_count": null,
   "id": "e79a3d37",
   "metadata": {
    "slideshow": {
     "slide_type": "subslide"
    }
   },
   "outputs": [],
   "source": [
    "a = np.arange(1,11).reshape(2,5)\n",
    "b = np.arange(12,22).reshape(5,2)\n",
    "result = np.dot(a,b) # To multiply two arrays\n",
    "result"
   ]
  },
  {
   "cell_type": "code",
   "execution_count": null,
   "id": "ce6a4cfe",
   "metadata": {
    "slideshow": {
     "slide_type": "subslide"
    }
   },
   "outputs": [],
   "source": [
    "result.transpose()"
   ]
  },
  {
   "cell_type": "code",
   "execution_count": null,
   "id": "df9898c8",
   "metadata": {
    "slideshow": {
     "slide_type": "subslide"
    }
   },
   "outputs": [],
   "source": [
    "np.linalg.inv(result) # and finally"
   ]
  },
  {
   "cell_type": "markdown",
   "id": "73000861",
   "metadata": {
    "slideshow": {
     "slide_type": "slide"
    }
   },
   "source": [
    "# Scipy\n",
    "\n",
    "- built on the NumPy \n",
    "- various tools and functions for solving common problems in scientific computing.\n",
    "\n",
    "ex: \n",
    "- Fourier Transforms (scipy.fftpack)\n",
    "- Multidimensional image processing (scipy.ndimage)\n",
    "- Spatial data structures and algorithms (scipy.spatial)\n",
    " ..\n"
   ]
  },
  {
   "cell_type": "markdown",
   "id": "abb1e1df",
   "metadata": {
    "slideshow": {
     "slide_type": "slide"
    }
   },
   "source": [
    "## Continue our discussion on Pandas"
   ]
  },
  {
   "cell_type": "code",
   "execution_count": 1,
   "id": "f5398402",
   "metadata": {
    "slideshow": {
     "slide_type": "subslide"
    }
   },
   "outputs": [],
   "source": [
    "import pandas as pd"
   ]
  },
  {
   "cell_type": "code",
   "execution_count": 2,
   "id": "917bcccd",
   "metadata": {
    "slideshow": {
     "slide_type": "subslide"
    }
   },
   "outputs": [],
   "source": [
    "WORLD_DATA_PATH = \"spotify-top-50/data/spotify-streaming-top-50-usa.csv\""
   ]
  },
  {
   "cell_type": "code",
   "execution_count": 3,
   "id": "85ed4443",
   "metadata": {
    "slideshow": {
     "slide_type": "subslide"
    }
   },
   "outputs": [],
   "source": [
    "world_df = pd.read_csv(WORLD_DATA_PATH)"
   ]
  },
  {
   "cell_type": "code",
   "execution_count": 4,
   "id": "1ff94930",
   "metadata": {
    "slideshow": {
     "slide_type": "subslide"
    }
   },
   "outputs": [
    {
     "data": {
      "text/html": [
       "<div>\n",
       "<style scoped>\n",
       "    .dataframe tbody tr th:only-of-type {\n",
       "        vertical-align: middle;\n",
       "    }\n",
       "\n",
       "    .dataframe tbody tr th {\n",
       "        vertical-align: top;\n",
       "    }\n",
       "\n",
       "    .dataframe thead th {\n",
       "        text-align: right;\n",
       "    }\n",
       "</style>\n",
       "<table border=\"1\" class=\"dataframe\">\n",
       "  <thead>\n",
       "    <tr style=\"text-align: right;\">\n",
       "      <th></th>\n",
       "      <th>date</th>\n",
       "      <th>position</th>\n",
       "      <th>song</th>\n",
       "      <th>artist</th>\n",
       "      <th>popularity</th>\n",
       "      <th>duration_ms</th>\n",
       "      <th>album_type</th>\n",
       "      <th>total_tracks</th>\n",
       "      <th>release_date</th>\n",
       "      <th>is_explicit</th>\n",
       "      <th>album_cover_url</th>\n",
       "    </tr>\n",
       "  </thead>\n",
       "  <tbody>\n",
       "    <tr>\n",
       "      <th>1983</th>\n",
       "      <td>2023-06-26</td>\n",
       "      <td>34</td>\n",
       "      <td>Karma</td>\n",
       "      <td>Taylor Swift</td>\n",
       "      <td>90</td>\n",
       "      <td>204852</td>\n",
       "      <td>album</td>\n",
       "      <td>13</td>\n",
       "      <td>2022-10-21</td>\n",
       "      <td>True</td>\n",
       "      <td>https://i.scdn.co/image/ab67616d0000b273bb54dd...</td>\n",
       "    </tr>\n",
       "  </tbody>\n",
       "</table>\n",
       "</div>"
      ],
      "text/plain": [
       "            date  position   song        artist  popularity  duration_ms  \\\n",
       "1983  2023-06-26        34  Karma  Taylor Swift          90       204852   \n",
       "\n",
       "     album_type  total_tracks release_date  is_explicit  \\\n",
       "1983      album            13   2022-10-21         True   \n",
       "\n",
       "                                        album_cover_url  \n",
       "1983  https://i.scdn.co/image/ab67616d0000b273bb54dd...  "
      ]
     },
     "execution_count": 4,
     "metadata": {},
     "output_type": "execute_result"
    }
   ],
   "source": [
    "world_df.sample()"
   ]
  },
  {
   "cell_type": "markdown",
   "id": "09888888",
   "metadata": {},
   "source": [
    "### Q: The time range of the dataset?"
   ]
  },
  {
   "cell_type": "code",
   "execution_count": 7,
   "id": "a99023b1",
   "metadata": {
    "scrolled": true
   },
   "outputs": [
    {
     "data": {
      "text/plain": [
       "dtype('O')"
      ]
     },
     "execution_count": 7,
     "metadata": {},
     "output_type": "execute_result"
    }
   ],
   "source": [
    "world_df['date'].dtype"
   ]
  },
  {
   "cell_type": "code",
   "execution_count": 9,
   "id": "e9591998",
   "metadata": {},
   "outputs": [
    {
     "data": {
      "text/plain": [
       "str"
      ]
     },
     "execution_count": 9,
     "metadata": {},
     "output_type": "execute_result"
    }
   ],
   "source": [
    "type(world_df['date'][0])"
   ]
  },
  {
   "cell_type": "code",
   "execution_count": 12,
   "id": "f4cc7e96",
   "metadata": {},
   "outputs": [],
   "source": [
    "# Convert column date to date datatype\n",
    "\n",
    "world_df['date'] = pd.to_datetime(world_df['date'])"
   ]
  },
  {
   "cell_type": "code",
   "execution_count": 16,
   "id": "781a1128",
   "metadata": {},
   "outputs": [
    {
     "data": {
      "text/plain": [
       "(Timestamp('2023-06-27 00:00:00'), Timestamp('2023-05-18 00:00:00'))"
      ]
     },
     "execution_count": 16,
     "metadata": {},
     "output_type": "execute_result"
    }
   ],
   "source": [
    "# Q : What is the time range in which this dataset is recording top 50?\n",
    "# Assume that it records everyday\n",
    "\n",
    "world_df['date'].max(), world_df['date'].min()"
   ]
  },
  {
   "cell_type": "code",
   "execution_count": null,
   "id": "abf10754",
   "metadata": {},
   "outputs": [],
   "source": [
    "#Find start and end date of the dataset\n",
    "\n",
    "print(\"Dataset start date:\",world_df['date'].min())\n",
    "print(\"Dataset end date:\",world_df['date'].max())"
   ]
  },
  {
   "cell_type": "code",
   "execution_count": null,
   "id": "58103d13",
   "metadata": {},
   "outputs": [],
   "source": [
    "#Revsiting groupby\n",
    "world_df.groupby(\"position\")"
   ]
  },
  {
   "cell_type": "code",
   "execution_count": null,
   "id": "041376bf",
   "metadata": {},
   "outputs": [],
   "source": [
    "#Grouping by position, see in each position what was the maximum duration of a song\n",
    "world_df.groupby(\"position\")[\"duration_ms\"].max().to_frame()"
   ]
  },
  {
   "cell_type": "markdown",
   "id": "504f4a5d",
   "metadata": {
    "slideshow": {
     "slide_type": "subslide"
    }
   },
   "source": [
    "## GroupBy"
   ]
  },
  {
   "cell_type": "markdown",
   "id": "571c0a4b",
   "metadata": {
    "slideshow": {
     "slide_type": "subslide"
    }
   },
   "source": [
    "<img src = \"https://pbs.twimg.com/media/CycthXVXgAAazkz?format=jpg&name=small\">\n",
    "\n",
    "source = \"https://www.kaggle.com/code/alenavorushilova/grouping-sorting-and-filtering-data-tutorial\""
   ]
  },
  {
   "cell_type": "code",
   "execution_count": null,
   "id": "bb0e6628",
   "metadata": {},
   "outputs": [],
   "source": [
    "# Q: For each position (1 to 50), which artist was in that rank the maximum number of days\n"
   ]
  },
  {
   "cell_type": "code",
   "execution_count": null,
   "id": "60290f88",
   "metadata": {},
   "outputs": [],
   "source": [
    "df_with_rank_counts = world_df.groupby(\"position\")[\"artist\"].value_counts().to_frame()\n",
    "df_with_rank_counts"
   ]
  },
  {
   "cell_type": "code",
   "execution_count": null,
   "id": "70c30f6f",
   "metadata": {},
   "outputs": [],
   "source": [
    "#Multiindex \n",
    "df_with_rank_counts.index"
   ]
  },
  {
   "cell_type": "code",
   "execution_count": null,
   "id": "814f230f",
   "metadata": {},
   "outputs": [],
   "source": [
    "#Getting index values in multi-index\n",
    "df_with_rank_counts[\"rank_no\"] = df_with_rank_counts.index.get_level_values(\"position\")"
   ]
  },
  {
   "cell_type": "code",
   "execution_count": null,
   "id": "e26aaf97",
   "metadata": {},
   "outputs": [],
   "source": [
    "df_with_rank_counts.sample()"
   ]
  },
  {
   "cell_type": "code",
   "execution_count": null,
   "id": "538e5f6b",
   "metadata": {},
   "outputs": [],
   "source": [
    "#Getting index values in multi-index\n",
    "df_with_rank_counts[\"artist\"] = df_with_rank_counts.index.get_level_values(\"artist\")"
   ]
  },
  {
   "cell_type": "code",
   "execution_count": null,
   "id": "59754299",
   "metadata": {},
   "outputs": [],
   "source": [
    "df_with_rank_counts.sample()"
   ]
  },
  {
   "cell_type": "code",
   "execution_count": null,
   "id": "966e73b7",
   "metadata": {},
   "outputs": [],
   "source": [
    "# Another way\n",
    "df_with_rank_counts = world_df.groupby(\"position\")[\"artist\"].value_counts().to_frame()\n",
    "df_with_rank_counts.sample()"
   ]
  },
  {
   "cell_type": "code",
   "execution_count": null,
   "id": "5b53e23f",
   "metadata": {},
   "outputs": [],
   "source": [
    "df_with_rank_counts.reset_index(level = 0) "
   ]
  },
  {
   "cell_type": "code",
   "execution_count": null,
   "id": "4664fc69",
   "metadata": {},
   "outputs": [],
   "source": [
    "df_with_rank_counts = world_df.groupby(\"position\")[\"artist\"].value_counts().to_frame()\n",
    "df_with_rank_counts[\"count\"] = df_with_rank_counts[\"artist\"]\n",
    "df_with_rank_counts.drop(\"artist\")"
   ]
  },
  {
   "cell_type": "code",
   "execution_count": null,
   "id": "434fe0fe",
   "metadata": {},
   "outputs": [],
   "source": [
    "\n",
    "\n",
    "\n",
    "df_with_rank_counts = world_df.groupby(\"position\")[\"artist\"].value_counts().to_frame()\n",
    "df_with_rank_counts[\"count\"] = df_with_rank_counts[\"artist\"]\n",
    "df_with_rank_counts.rename(columns={\"artist\":\"creator\"},inplace = True)\n",
    "df_with_rank_counts\n"
   ]
  },
  {
   "cell_type": "code",
   "execution_count": null,
   "id": "9bda9219",
   "metadata": {},
   "outputs": [],
   "source": [
    "df_with_rank_counts.reset_index(inplace=True)\n",
    "df_with_rank_counts"
   ]
  },
  {
   "cell_type": "code",
   "execution_count": null,
   "id": "d207daac",
   "metadata": {},
   "outputs": [],
   "source": [
    "\n",
    "\n",
    "\n",
    "df_with_rank_counts[df_with_rank_counts[\"position\"]== 1][\"count\"].idxmax() #Return index "
   ]
  },
  {
   "cell_type": "code",
   "execution_count": null,
   "id": "dc50fdde",
   "metadata": {},
   "outputs": [],
   "source": [
    "df_with_rank_counts.loc[df_with_rank_counts[df_with_rank_counts[\"position\"]== 1][\"count\"].idxmax()].to_frame().T"
   ]
  },
  {
   "cell_type": "code",
   "execution_count": null,
   "id": "09780d2c",
   "metadata": {},
   "outputs": [],
   "source": [
    "list_of_dataframes = []\n",
    "for position in range(1,51):\n",
    "    list_of_dataframes.append(df_with_rank_counts.loc[df_with_rank_counts[df_with_rank_counts[\"position\"]== position][\"count\"].idxmax()].to_frame().T)"
   ]
  },
  {
   "cell_type": "code",
   "execution_count": null,
   "id": "e9f77028",
   "metadata": {},
   "outputs": [],
   "source": [
    "list_of_dataframes[1]"
   ]
  },
  {
   "cell_type": "code",
   "execution_count": null,
   "id": "652e433d",
   "metadata": {},
   "outputs": [],
   "source": [
    "merged_df = pd.concat(list_of_dataframes)\n",
    "merged_df"
   ]
  },
  {
   "cell_type": "code",
   "execution_count": null,
   "id": "c32e3c29",
   "metadata": {},
   "outputs": [],
   "source": [
    "merged_df.set_index(\"position\",drop=True,inplace=True)\n",
    "merged_df"
   ]
  },
  {
   "cell_type": "code",
   "execution_count": null,
   "id": "d410999a",
   "metadata": {},
   "outputs": [],
   "source": [
    "del merged_df[\"creator\"]"
   ]
  },
  {
   "cell_type": "code",
   "execution_count": null,
   "id": "d909b04b",
   "metadata": {},
   "outputs": [],
   "source": [
    "merged_df"
   ]
  },
  {
   "cell_type": "code",
   "execution_count": null,
   "id": "acf552a6",
   "metadata": {},
   "outputs": [],
   "source": []
  }
 ],
 "metadata": {
  "celltoolbar": "Slideshow",
  "kernelspec": {
   "display_name": "Python 3 (ipykernel)",
   "language": "python",
   "name": "python3"
  },
  "language_info": {
   "codemirror_mode": {
    "name": "ipython",
    "version": 3
   },
   "file_extension": ".py",
   "mimetype": "text/x-python",
   "name": "python",
   "nbconvert_exporter": "python",
   "pygments_lexer": "ipython3",
   "version": "3.10.9"
  }
 },
 "nbformat": 4,
 "nbformat_minor": 5
}
